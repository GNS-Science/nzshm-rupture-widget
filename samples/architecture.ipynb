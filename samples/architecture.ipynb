{
 "cells": [
  {
   "cell_type": "code",
   "execution_count": 29,
   "id": "7a3ba551-d571-4cd2-aef9-766cf51c5c5e",
   "metadata": {},
   "outputs": [
    {
     "name": "stdout",
     "output_type": "stream",
     "text": [
      "The autoreload extension is already loaded. To reload it, use:\n",
      "  %reload_ext autoreload\n",
      "env: ANYWIDGET_HMR=1\n"
     ]
    }
   ],
   "source": [
    "# These settings automatically re-render the widget when the JavaScipt file has changed\n",
    "\n",
    "%load_ext autoreload\n",
    "%autoreload 2\n",
    "%env ANYWIDGET_HMR=1"
   ]
  },
  {
   "cell_type": "code",
   "execution_count": 30,
   "id": "5d17506d-af2d-4cba-9b27-f51425386000",
   "metadata": {},
   "outputs": [],
   "source": [
    "from ipywidgets import Button, GridBox, Layout, ButtonStyle, IntSlider, Box, jslink\n",
    "from nzshm_rupture_widget import rupture_map, MapWidget, SliderWidget\n",
    "import json"
   ]
  },
  {
   "cell_type": "code",
   "execution_count": 31,
   "id": "639547d1-6011-496b-a7ec-b8b1ab16dc6b",
   "metadata": {},
   "outputs": [],
   "source": [
    "with open('small_styled_crustal.geojson') as json_file:\n",
    "    styled_crustal = json.load(json_file)\n",
    "    json_file.close()\n",
    "\n",
    "polygon = {\"type\":\"FeatureCollection\",\"features\": [{\n",
    "    \"type\": \"Feature\",\n",
    "    \"properties\": {},\n",
    "    \"geometry\": {\n",
    "        \"coordinates\": [\n",
    "            [\n",
    "                [31.82, 9.27, 1],\n",
    "                [31.82, 5.64, 1],\n",
    "                [34.87, 5.64, 1],\n",
    "                [34.87, 9.27, 1]\n",
    "            ]\n",
    "        ],\n",
    "        \"type\": \"Polygon\"\n",
    "    }\n",
    "}]}\n"
   ]
  },
  {
   "cell_type": "code",
   "execution_count": 32,
   "id": "aaa28918-fb54-416b-a7f2-626692391007",
   "metadata": {},
   "outputs": [
    {
     "data": {
      "application/vnd.jupyter.widget-view+json": {
       "model_id": "9c5fc7cb9bc44090bac6c20b506d9bf6",
       "version_major": 2,
       "version_minor": 0
      },
      "text/plain": [
       "GridBox(children=(MapWidget(data=[{'type': 'FeatureCollection', 'features': [{'id': '216', 'type': 'Feature', …"
      ]
     },
     "execution_count": 32,
     "metadata": {},
     "output_type": "execute_result"
    }
   ],
   "source": [
    "map = MapWidget(data=[styled_crustal, polygon], layout=Layout(grid_area='1 / 1 / -1 / -1'))\n",
    "sliderWidget = SliderWidget(min=0, max=len(map.data)-1, value=0)\n",
    "\n",
    "jslink((map, \"selection\"), (sliderWidget, \"value\"))\n",
    "\n",
    "slider = IntSlider(min=0, max=1, layout=Layout(width='100%')) #, grid_area='2 / 4 / 2 / 4'))\n",
    "button = Button(description='Another button with the same layout', layout=Layout(width='100%', grid_area='2 / 4 / 2 / 4'))\n",
    "right_bar = Box([slider, button, sliderWidget], layout=Layout(\n",
    "    display='flex',\n",
    "    flex_flow='column',\n",
    "    justify_content= 'flex-end',\n",
    "   # border='solid 2px',\n",
    "    align_items='stretch',\n",
    "    width='200px',\n",
    "    grid_area='2 / 4 / 4 / 4',\n",
    "    pointer_events= 'none',\n",
    "))\n",
    "\n",
    "right_bar.add_class('bottomRight3DMap')\n",
    "\n",
    "GridBox(children=[map, right_bar],\n",
    "        layout=Layout(\n",
    "            width='100%',\n",
    "            grid_template_rows='50px auto 50px',\n",
    "            grid_template_columns='25% 25% auto 200px 10px')\n",
    "       )\n",
    "\n"
   ]
  },
  {
   "cell_type": "code",
   "execution_count": null,
   "id": "a307bfe0-4b69-4c0b-b9f1-6c5a173d5ffa",
   "metadata": {},
   "outputs": [],
   "source": []
  }
 ],
 "metadata": {
  "kernelspec": {
   "display_name": "Python 3 (ipykernel)",
   "language": "python",
   "name": "python3"
  },
  "language_info": {
   "codemirror_mode": {
    "name": "ipython",
    "version": 3
   },
   "file_extension": ".py",
   "mimetype": "text/x-python",
   "name": "python",
   "nbconvert_exporter": "python",
   "pygments_lexer": "ipython3",
   "version": "3.11.9"
  }
 },
 "nbformat": 4,
 "nbformat_minor": 5
}
