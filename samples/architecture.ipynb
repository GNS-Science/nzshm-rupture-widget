{
 "cells": [
  {
   "cell_type": "code",
   "execution_count": 123,
   "id": "7a3ba551-d571-4cd2-aef9-766cf51c5c5e",
   "metadata": {},
   "outputs": [
    {
     "name": "stdout",
     "output_type": "stream",
     "text": [
      "The autoreload extension is already loaded. To reload it, use:\n",
      "  %reload_ext autoreload\n",
      "env: ANYWIDGET_HMR=1\n"
     ]
    }
   ],
   "source": [
    "# These settings automatically re-render the widget when the JavaScipt file has changed\n",
    "\n",
    "%load_ext autoreload\n",
    "%autoreload 2\n",
    "%env ANYWIDGET_HMR=1"
   ]
  },
  {
   "cell_type": "code",
   "execution_count": 163,
   "id": "5d17506d-af2d-4cba-9b27-f51425386000",
   "metadata": {},
   "outputs": [],
   "source": [
    "from ipywidgets import Button, GridBox, Layout, ButtonStyle, IntSlider, Box, jslink, HTML\n",
    "from nzshm_rupture_widget import rupture_map, MapWidget, SliderWidget, FullScreenWidget, HomeWidget, legend, slider, MapLayout\n",
    "import json"
   ]
  },
  {
   "cell_type": "code",
   "execution_count": 158,
   "id": "639547d1-6011-496b-a7ec-b8b1ab16dc6b",
   "metadata": {},
   "outputs": [],
   "source": [
    "with open('small_styled_crustal.geojson') as json_file:\n",
    "    styled_crustal = json.load(json_file)\n",
    "    json_file.close()\n",
    "\n",
    "polygon = {\"type\":\"FeatureCollection\",\"features\": [{\n",
    "    \"type\": \"Feature\",\n",
    "    \"properties\": {},\n",
    "    \"geometry\": {\n",
    "        \"coordinates\": [\n",
    "            [\n",
    "                [31.82, 9.27, 1],\n",
    "                [31.82, 5.64, 1],\n",
    "                [34.87, 5.64, 1],\n",
    "                [34.87, 9.27, 1]\n",
    "            ]\n",
    "        ],\n",
    "        \"type\": \"Polygon\"\n",
    "    }\n",
    "}]}\n",
    "\n",
    "color_map = {0.001: '#fcffa4',\n",
    " 0.0005: '#fbbe23',\n",
    " 0.0002: '#ea632a',\n",
    " 0.0001: '#bc3754',\n",
    " 5e-05: '#7f1e6c',\n",
    " 2e-05: '#2b0b57',\n",
    " 1e-05: '#000004'}\n"
   ]
  },
  {
   "cell_type": "code",
   "execution_count": 168,
   "id": "aaa28918-fb54-416b-a7f2-626692391007",
   "metadata": {},
   "outputs": [
    {
     "data": {
      "application/vnd.jupyter.widget-view+json": {
       "model_id": "20a459a34c254b989578f99bd0db3159",
       "version_major": 2,
       "version_minor": 0
      },
      "text/plain": [
       "GridBox(children=(MapWidget(data=[{'type': 'FeatureCollection', 'features': [{'id': '216', 'type': 'Feature', …"
      ]
     },
     "execution_count": 168,
     "metadata": {},
     "output_type": "execute_result"
    }
   ],
   "source": [
    "map = MapLayout(data = [styled_crustal, polygon])\n",
    "\n",
    "html = HTML(\"<b>Section Detail</b><br/><p>hover over fault sections for more details.</p>\", style={\"background\":\"white\", \"border-radius\":\"5px\"})\n",
    "html.add_class(\"mapHtmlWidget\")\n",
    "def on_hover(msg):\n",
    "    properties = msg[\"properties\"]\n",
    "    value = f\"<b>{properties['FaultName']}</b>\"\n",
    "    value += \"<br />\"\n",
    "    value += f\"Dip: {properties['DipDeg']}</br>\"\n",
    "    value += f\"Rake: {properties['Rake']}</br>\"\n",
    "    value += f\"Lower depth: {round(properties['LowDepth'],3)}</br>\"    \n",
    "    value += f\"Participation rate: {properties['annual_rate']:.2E}</br>\" \n",
    "    html.value = value\n",
    "\n",
    "map.map.on_hover(on_hover)\n",
    "map.map.hover_style = {\"fillColor\":\"red\", \"fillOpacity\":\"0.6\", \"color\":\"green\"}\n",
    "\n",
    "map.add(html)\n",
    "map.add(slider(map.map))\n",
    "map.add(HomeWidget(map.map), \"top-left\")\n",
    "map.add(FullScreenWidget(), \"top-left\")\n",
    "map.add(legend(\"Rupture Rate/yr\", color_map), \"top-left\")\n",
    "map.render()\n"
   ]
  }
 ],
 "metadata": {
  "kernelspec": {
   "display_name": "Python 3 (ipykernel)",
   "language": "python",
   "name": "python3"
  },
  "language_info": {
   "codemirror_mode": {
    "name": "ipython",
    "version": 3
   },
   "file_extension": ".py",
   "mimetype": "text/x-python",
   "name": "python",
   "nbconvert_exporter": "python",
   "pygments_lexer": "ipython3",
   "version": "3.11.9"
  }
 },
 "nbformat": 4,
 "nbformat_minor": 5
}
