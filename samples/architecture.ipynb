{
 "cells": [
  {
   "cell_type": "code",
   "execution_count": 1,
   "id": "7a3ba551-d571-4cd2-aef9-766cf51c5c5e",
   "metadata": {},
   "outputs": [
    {
     "name": "stdout",
     "output_type": "stream",
     "text": [
      "env: ANYWIDGET_HMR=1\n"
     ]
    }
   ],
   "source": [
    "# These settings automatically re-render the widget when the JavaScipt file has changed\n",
    "\n",
    "%load_ext autoreload\n",
    "%autoreload 2\n",
    "%env ANYWIDGET_HMR=1"
   ]
  },
  {
   "cell_type": "code",
   "execution_count": 5,
   "id": "8367528a-157d-4c64-87de-7af48aed488b",
   "metadata": {},
   "outputs": [
    {
     "name": "stdout",
     "output_type": "stream",
     "text": [
      "Help on package ipywidgets:\n",
      "\n",
      "NAME\n",
      "    ipywidgets - Interactive widgets for the Jupyter notebook.\n",
      "\n",
      "DESCRIPTION\n",
      "    Provide simple interactive controls in the notebook.\n",
      "    Each Widget corresponds to an object in Python and Javascript,\n",
      "    with controls on the page.\n",
      "    \n",
      "    To put a Widget on the page, you can display it with Jupyter's display machinery::\n",
      "    \n",
      "        from ipywidgets import IntSlider\n",
      "        slider = IntSlider(min=1, max=10)\n",
      "        display(slider)\n",
      "    \n",
      "    Moving the slider will change the value. Most Widgets have a current value,\n",
      "    accessible as a `value` attribute.\n",
      "\n",
      "PACKAGE CONTENTS\n",
      "    _version\n",
      "    comm\n",
      "    embed\n",
      "    tests (package)\n",
      "    widgets (package)\n",
      "\n",
      "SUBMODULES\n",
      "    docutils\n",
      "    domwidget\n",
      "    interaction\n",
      "    trait_types\n",
      "    utils\n",
      "    valuewidget\n",
      "    widget\n",
      "    widget_bool\n",
      "    widget_box\n",
      "    widget_button\n",
      "    widget_color\n",
      "    widget_controller\n",
      "    widget_core\n",
      "    widget_date\n",
      "    widget_datetime\n",
      "    widget_description\n",
      "    widget_float\n",
      "    widget_int\n",
      "    widget_layout\n",
      "    widget_link\n",
      "    widget_media\n",
      "    widget_output\n",
      "    widget_selection\n",
      "    widget_selectioncontainer\n",
      "    widget_string\n",
      "    widget_style\n",
      "    widget_tagsinput\n",
      "    widget_templates\n",
      "    widget_time\n",
      "    widget_upload\n",
      "\n",
      "FUNCTIONS\n",
      "    load_ipython_extension(ip)\n",
      "        Set up Jupyter to work with widgets\n",
      "    \n",
      "    register_comm_target(kernel=None)\n",
      "        Register the jupyter.widget comm target\n",
      "\n",
      "DATA\n",
      "    __jupyter_widgets_base_version__ = '2.0.0'\n",
      "    __jupyter_widgets_controls_version__ = '2.0.0'\n",
      "    __protocol_version__ = '2.1.0'\n",
      "    interact = <ipywidgets.widgets.interaction._InteractFactory object>\n",
      "    interact_manual = <ipywidgets.widgets.interaction._InteractFactory obj...\n",
      "    widget_serialization = {'from_json': <function _json_to_widget>, 'to_j...\n",
      "\n",
      "VERSION\n",
      "    8.1.5\n",
      "\n",
      "FILE\n",
      "    /opt/conda/lib/python3.11/site-packages/ipywidgets/__init__.py\n",
      "\n",
      "\n"
     ]
    }
   ],
   "source": [
    "import ipywidgets\n",
    "help(ipywidgets)"
   ]
  },
  {
   "cell_type": "code",
   "execution_count": 12,
   "id": "639547d1-6011-496b-a7ec-b8b1ab16dc6b",
   "metadata": {},
   "outputs": [],
   "source": [
    "with open('small_styled_crustal.geojson') as json_file:\n",
    "    styled_crustal = json.load(json_file)\n",
    "    json_file.close()\n",
    "\n",
    "polygon = {\"type\":\"FeatureCollection\",\"features\": [{\n",
    "    \"type\": \"Feature\",\n",
    "    \"properties\": {},\n",
    "    \"geometry\": {\n",
    "        \"coordinates\": [\n",
    "            [\n",
    "                [31.82, 9.27, 1],\n",
    "                [31.82, 5.64, 1],\n",
    "                [34.87, 5.64, 1],\n",
    "                [34.87, 9.27, 1]\n",
    "            ]\n",
    "        ],\n",
    "        \"type\": \"Polygon\"\n",
    "    }\n",
    "}]}\n",
    "\n",
    "color_map = {0.001: '#fcffa4',\n",
    " 0.0005: '#fbbe23',\n",
    " 0.0002: '#ea632a',\n",
    " 0.0001: '#bc3754',\n",
    " 5e-05: '#7f1e6c',\n",
    " 2e-05: '#2b0b57',\n",
    " 1e-05: '#000004'}\n"
   ]
  },
  {
   "cell_type": "code",
   "execution_count": 26,
   "id": "5d17506d-af2d-4cba-9b27-f51425386000",
   "metadata": {},
   "outputs": [],
   "source": [
    "from ipywidgets import Button, GridBox, Layout, ButtonStyle, IntSlider, FloatSlider, Box, jslink, HTML, DOMWidget\n",
    "from nzshm_rupture_widget import CesiumWidget, SliderWidget, FullScreenWidget, HomeWidget, legend, selection_slider, MapLayoutBuilder, transparency_button, ValueButtonWidget, geojson_3d_map\n",
    "import json"
   ]
  },
  {
   "cell_type": "code",
   "execution_count": 27,
   "id": "9767940b-340e-42f1-8bc4-84f367b8c507",
   "metadata": {},
   "outputs": [
    {
     "data": {
      "application/vnd.jupyter.widget-view+json": {
       "model_id": "6b7141158a8a498182f635fce51cd593",
       "version_major": 2,
       "version_minor": 0
      },
      "text/plain": [
       "GridBox(children=(CesiumWidget(data=[{'type': 'FeatureCollection', 'features': [{'id': '216', 'type': 'Feature…"
      ]
     },
     "execution_count": 27,
     "metadata": {},
     "output_type": "execute_result"
    }
   ],
   "source": [
    "geojson_3d_map([styled_crustal, polygon])"
   ]
  },
  {
   "cell_type": "code",
   "execution_count": 30,
   "id": "aaa28918-fb54-416b-a7f2-626692391007",
   "metadata": {},
   "outputs": [
    {
     "data": {
      "application/vnd.jupyter.widget-view+json": {
       "model_id": "8b453a5a229f4f22b6952f1a9c06031d",
       "version_major": 2,
       "version_minor": 0
      },
      "text/plain": [
       "GridBox(children=(CesiumWidget(data=[{'type': 'FeatureCollection', 'features': [{'id': '216', 'type': 'Feature…"
      ]
     },
     "execution_count": 30,
     "metadata": {},
     "output_type": "execute_result"
    }
   ],
   "source": [
    "cesium = CesiumWidget(data = [styled_crustal, polygon])\n",
    "map = MapLayoutBuilder(cesium)\n",
    "\n",
    "html = HTML(\"<b>Section Detail</b><br/><p>hover over fault sections for more details.</p>\", style={\"background\":\"white\", \"border-radius\":\"5px\"})\n",
    "html.add_class(\"mapHtmlWidget\")\n",
    "def on_hover(msg):\n",
    "    properties = msg[\"properties\"]\n",
    "    value = f\"<b>{properties['FaultName']}</b>\"\n",
    "    value += \"<br />\"\n",
    "    value += f\"Dip: {properties['DipDeg']}</br>\"\n",
    "    value += f\"Rake: {properties['Rake']}</br>\"\n",
    "    value += f\"Lower depth: {round(properties['LowDepth'],3)}</br>\"    \n",
    "    value += f\"Participation rate: {properties['annual_rate']:.2E}</br>\" \n",
    "    html.value = value\n",
    "\n",
    "cesium.on_hover(on_hover)\n",
    "cesium.hover_style = {\"fillColor\":\"red\", \"fillOpacity\":\"0.6\", \"color\":\"green\"}\n",
    "cesium.no_info = True\n",
    "cesium.globe_opacity = 1\n",
    "\n",
    "map.add(html)\n",
    "map.add(selection_slider(cesium))\n",
    "map.add(HomeWidget(cesium), \"top-left\")\n",
    "map.add(transparency_button(cesium, [1, 0.5, 0.2, 0]), \"top-left\")\n",
    "map.add(FullScreenWidget(), \"top-left\")\n",
    "map.add(legend(\"Rupture Rate/yr\", color_map), \"top-left\")\n",
    "map.build()\n"
   ]
  },
  {
   "cell_type": "code",
   "execution_count": 31,
   "id": "37bdbf27-4b8d-48c0-9a36-f71ccf29b5a4",
   "metadata": {},
   "outputs": [
    {
     "data": {
      "application/vnd.jupyter.widget-view+json": {
       "model_id": "364e12f96d6a44dda6c84ffce79b32e2",
       "version_major": 2,
       "version_minor": 0
      },
      "text/plain": [
       "FloatSlider(value=0.5, max=1.0)"
      ]
     },
     "execution_count": 31,
     "metadata": {},
     "output_type": "execute_result"
    }
   ],
   "source": [
    "alpha_slider = FloatSlider(min=0, max=1, value=0.5)\n",
    "jslink((cesium, \"globe_opacity\"), (alpha_slider, \"value\"))\n",
    "alpha_slider"
   ]
  },
  {
   "cell_type": "code",
   "execution_count": 32,
   "id": "16435e93-7dc5-4a68-9db9-505f9f096112",
   "metadata": {},
   "outputs": [
    {
     "data": {
      "application/vnd.jupyter.widget-view+json": {
       "model_id": "e36307f431314dadae4c8b1468f19c3e",
       "version_major": 2,
       "version_minor": 0
      },
      "text/plain": [
       "IntSlider(value=0, max=1)"
      ]
     },
     "execution_count": 32,
     "metadata": {},
     "output_type": "execute_result"
    }
   ],
   "source": [
    "gjSlider = IntSlider(min=0, max=1)\n",
    "jslink((cesium, \"selection\"), (gjSlider, \"value\"))\n",
    "gjSlider"
   ]
  },
  {
   "cell_type": "code",
   "execution_count": 33,
   "id": "c78cf4df-1e1e-448e-ae93-82eda50f22e3",
   "metadata": {},
   "outputs": [
    {
     "data": {
      "application/vnd.jupyter.widget-view+json": {
       "model_id": "4294ae51dcc843988915079e00312c7a",
       "version_major": 2,
       "version_minor": 1
      },
      "text/plain": [
       "SliderWidget(max=1)"
      ]
     },
     "execution_count": 33,
     "metadata": {},
     "output_type": "execute_result"
    }
   ],
   "source": [
    "selection_slider(cesium)"
   ]
  }
 ],
 "metadata": {
  "kernelspec": {
   "display_name": "Python 3 (ipykernel)",
   "language": "python",
   "name": "python3"
  },
  "language_info": {
   "codemirror_mode": {
    "name": "ipython",
    "version": 3
   },
   "file_extension": ".py",
   "mimetype": "text/x-python",
   "name": "python",
   "nbconvert_exporter": "python",
   "pygments_lexer": "ipython3",
   "version": "3.11.9"
  }
 },
 "nbformat": 4,
 "nbformat_minor": 5
}
