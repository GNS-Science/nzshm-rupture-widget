{
 "cells": [
  {
   "cell_type": "code",
   "execution_count": 69,
   "id": "7a3ba551-d571-4cd2-aef9-766cf51c5c5e",
   "metadata": {},
   "outputs": [
    {
     "name": "stdout",
     "output_type": "stream",
     "text": [
      "The autoreload extension is already loaded. To reload it, use:\n",
      "  %reload_ext autoreload\n",
      "env: ANYWIDGET_HMR=1\n"
     ]
    }
   ],
   "source": [
    "# These settings automatically re-render the widget when the JavaScipt file has changed\n",
    "\n",
    "%load_ext autoreload\n",
    "%autoreload 2\n",
    "%env ANYWIDGET_HMR=1"
   ]
  },
  {
   "cell_type": "code",
   "execution_count": 93,
   "id": "5d17506d-af2d-4cba-9b27-f51425386000",
   "metadata": {},
   "outputs": [],
   "source": [
    "from ipywidgets import Button, GridBox, Layout, ButtonStyle, IntSlider, Box, jslink\n",
    "from nzshm_rupture_widget import rupture_map, MapWidget, SliderWidget, FullScreenWidget, HomeWidget\n",
    "import json"
   ]
  },
  {
   "cell_type": "code",
   "execution_count": 94,
   "id": "639547d1-6011-496b-a7ec-b8b1ab16dc6b",
   "metadata": {},
   "outputs": [],
   "source": [
    "with open('small_styled_crustal.geojson') as json_file:\n",
    "    styled_crustal = json.load(json_file)\n",
    "    json_file.close()\n",
    "\n",
    "polygon = {\"type\":\"FeatureCollection\",\"features\": [{\n",
    "    \"type\": \"Feature\",\n",
    "    \"properties\": {},\n",
    "    \"geometry\": {\n",
    "        \"coordinates\": [\n",
    "            [\n",
    "                [31.82, 9.27, 1],\n",
    "                [31.82, 5.64, 1],\n",
    "                [34.87, 5.64, 1],\n",
    "                [34.87, 9.27, 1]\n",
    "            ]\n",
    "        ],\n",
    "        \"type\": \"Polygon\"\n",
    "    }\n",
    "}]}\n"
   ]
  },
  {
   "cell_type": "code",
   "execution_count": 100,
   "id": "aaa28918-fb54-416b-a7f2-626692391007",
   "metadata": {},
   "outputs": [
    {
     "data": {
      "application/vnd.jupyter.widget-view+json": {
       "model_id": "151200b5858547de9fbcceb6a9856c9a",
       "version_major": 2,
       "version_minor": 0
      },
      "text/plain": [
       "GridBox(children=(MapWidget(data=[{'type': 'FeatureCollection', 'features': [{'id': '216', 'type': 'Feature', …"
      ]
     },
     "execution_count": 100,
     "metadata": {},
     "output_type": "execute_result"
    }
   ],
   "source": [
    "map = MapWidget(data=[styled_crustal, polygon], layout=Layout(grid_area='1 / 1 / -1 / -1'))\n",
    "sliderWidget = SliderWidget(min=0, max=len(map.data)-1, value=0)\n",
    "fullscreen = FullScreenWidget(value=0)\n",
    "homeWidget = HomeWidget(map)\n",
    "\n",
    "slider = IntSlider(min=0, max=len(map.data)-1, value=0)\n",
    "\n",
    "jslink((map, \"selection\"), (sliderWidget, \"value\"))\n",
    "jslink((map, \"selection\"), (slider, \"value\"))\n",
    "\n",
    "right_bar = Box([sliderWidget], layout=Layout(\n",
    "    display='flex',\n",
    "    flex_flow='column',\n",
    "    justify_content= 'flex-end',\n",
    "   # border='solid 2px',\n",
    "    align_items='stretch',\n",
    "    width='100%',\n",
    "    grid_area='2 / 3 / 4 / 4',\n",
    "    pointer_events= 'none',\n",
    "))\n",
    "\n",
    "right_bar.add_class('bottomRight3DMap')\n",
    "\n",
    "left_bar = Box([homeWidget, fullscreen], layout=Layout(\n",
    "    display='flex',\n",
    "    flex_flow='column',\n",
    "    justify_content= 'flex-start',\n",
    "   # border='solid 2px',\n",
    "    align_items='stretch',\n",
    "    width='100%',\n",
    "    grid_area='1 / 1 / 4 / 2',\n",
    "    pointer_events= 'none',\n",
    "))\n",
    "\n",
    "left_bar.add_class('bottomRight3DMap')\n",
    "\n",
    "gridBox = GridBox(children=[map, right_bar, left_bar],\n",
    "        layout=Layout(\n",
    "            width='100%',\n",
    "            height='400px',\n",
    "            grid_template_rows='50px auto 50px',\n",
    "            grid_template_columns='100px auto 300px')\n",
    "       )\n",
    "gridBox.add_class(\"fullScreenTarget\")\n",
    "\n",
    "gridBox\n",
    "\n"
   ]
  },
  {
   "cell_type": "code",
   "execution_count": null,
   "id": "22c25c04-ad74-4942-bec7-474ba22b239c",
   "metadata": {},
   "outputs": [],
   "source": []
  }
 ],
 "metadata": {
  "kernelspec": {
   "display_name": "Python 3 (ipykernel)",
   "language": "python",
   "name": "python3"
  },
  "language_info": {
   "codemirror_mode": {
    "name": "ipython",
    "version": 3
   },
   "file_extension": ".py",
   "mimetype": "text/x-python",
   "name": "python",
   "nbconvert_exporter": "python",
   "pygments_lexer": "ipython3",
   "version": "3.11.9"
  }
 },
 "nbformat": 4,
 "nbformat_minor": 5
}
