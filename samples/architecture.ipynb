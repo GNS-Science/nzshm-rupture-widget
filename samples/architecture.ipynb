{
 "cells": [
  {
   "cell_type": "code",
   "execution_count": 1,
   "id": "7a3ba551-d571-4cd2-aef9-766cf51c5c5e",
   "metadata": {},
   "outputs": [
    {
     "name": "stdout",
     "output_type": "stream",
     "text": [
      "env: ANYWIDGET_HMR=1\n"
     ]
    }
   ],
   "source": [
    "# These settings automatically re-render the widget when the JavaScipt file has changed\n",
    "\n",
    "%load_ext autoreload\n",
    "%autoreload 2\n",
    "%env ANYWIDGET_HMR=1"
   ]
  },
  {
   "cell_type": "code",
   "execution_count": 2,
   "id": "639547d1-6011-496b-a7ec-b8b1ab16dc6b",
   "metadata": {},
   "outputs": [],
   "source": [
    "import json\n",
    "\n",
    "with open('small_styled_crustal.geojson') as json_file:\n",
    "    styled_crustal = json.load(json_file)\n",
    "    json_file.close()\n",
    "\n",
    "polygon = {\"type\":\"FeatureCollection\",\"features\": [{\n",
    "    \"type\": \"Feature\",\n",
    "    \"properties\": {},\n",
    "    \"geometry\": {\n",
    "        \"coordinates\": [\n",
    "            [\n",
    "                [31.82, 9.27, 1],\n",
    "                [31.82, 5.64, 1],\n",
    "                [34.87, 5.64, 1],\n",
    "                [34.87, 9.27, 1]\n",
    "            ]\n",
    "        ],\n",
    "        \"type\": \"Polygon\"\n",
    "    }\n",
    "}]}\n",
    "\n",
    "color_map = {0.001: '#fcffa4',\n",
    " 0.0005: '#fbbe23',\n",
    " 0.0002: '#ea632a',\n",
    " 0.0001: '#bc3754',\n",
    " 5e-05: '#7f1e6c',\n",
    " 2e-05: '#2b0b57',\n",
    " 1e-05: '#000004'}\n"
   ]
  },
  {
   "cell_type": "code",
   "execution_count": 10,
   "id": "5d17506d-af2d-4cba-9b27-f51425386000",
   "metadata": {},
   "outputs": [],
   "source": [
    "from ipywidgets import Button, GridBox, Layout, ButtonStyle, IntSlider, FloatSlider, Box, jslink, HTML, DOMWidget\n",
    "from nzshm_rupture_widget import CesiumWidget, SliderWidget, FullScreenWidget, HomeWidget, legend, selection_slider, MapLayoutBuilder, transparency_button, ValueButtonWidget, geojson_3d_map"
   ]
  },
  {
   "cell_type": "code",
   "execution_count": 11,
   "id": "9767940b-340e-42f1-8bc4-84f367b8c507",
   "metadata": {},
   "outputs": [
    {
     "data": {
      "application/vnd.jupyter.widget-view+json": {
       "model_id": "ad3df8d590db4c97bb74f73a7e43102b",
       "version_major": 2,
       "version_minor": 0
      },
      "text/plain": [
       "GridBox(children=(CesiumWidget(data=[{'type': 'FeatureCollection', 'features': [{'id': '216', 'type': 'Feature…"
      ]
     },
     "execution_count": 11,
     "metadata": {},
     "output_type": "execute_result"
    }
   ],
   "source": [
    "geojson_3d_map([styled_crustal, polygon])"
   ]
  },
  {
   "cell_type": "code",
   "execution_count": 12,
   "id": "aaa28918-fb54-416b-a7f2-626692391007",
   "metadata": {},
   "outputs": [
    {
     "data": {
      "application/vnd.jupyter.widget-view+json": {
       "model_id": "3fd423ae196947a2bad593dea715394a",
       "version_major": 2,
       "version_minor": 0
      },
      "text/plain": [
       "GridBox(children=(CesiumWidget(data=[{'type': 'FeatureCollection', 'features': [{'id': '216', 'type': 'Feature…"
      ]
     },
     "execution_count": 12,
     "metadata": {},
     "output_type": "execute_result"
    }
   ],
   "source": [
    "cesium = CesiumWidget(data = [styled_crustal, polygon])\n",
    "\n",
    "html = HTML(\"<b>Section Detail</b><br/><p>hover over fault sections for more details.</p>\", style={\"background\":\"white\", \"border-radius\":\"5px\"})\n",
    "html.add_class(\"mapHtmlWidget\")\n",
    "def on_hover(msg):\n",
    "    properties = msg[\"properties\"]\n",
    "    value = f\"<b>{properties['FaultName']}</b>\"\n",
    "    value += \"<br />\"\n",
    "    value += f\"Dip: {properties['DipDeg']}</br>\"\n",
    "    value += f\"Rake: {properties['Rake']}</br>\"\n",
    "    value += f\"Lower depth: {round(properties['LowDepth'],3)}</br>\"    \n",
    "    value += f\"Participation rate: {properties['annual_rate']:.2E}</br>\" \n",
    "    html.value = value\n",
    "\n",
    "cesium.on_hover(on_hover)\n",
    "cesium.hover_style = {\"fillColor\":\"red\", \"fillOpacity\":\"0.6\", \"color\":\"green\"}\n",
    "cesium.no_info = True\n",
    "cesium.globe_opacity = 1\n",
    "\n",
    "alpha_slider = FloatSlider(min=0, max=1, value=0.5)\n",
    "jslink((cesium, \"globe_opacity\"), (alpha_slider, \"value\"))\n",
    "\n",
    "MapLayoutBuilder(cesium)\\\n",
    "    .bottom_right(\n",
    "        html, \n",
    "        selection_slider(cesium))\\\n",
    "    .top_left(\n",
    "        HomeWidget(cesium),\n",
    "        transparency_button(cesium, [1, 0.5, 0.2, 0]),\n",
    "        FullScreenWidget(),\n",
    "        legend(\"Rupture Rate/yr\", color_map))\\\n",
    "    .top_right(\n",
    "        alpha_slider)\\\n",
    "    .build()\n"
   ]
  },
  {
   "cell_type": "code",
   "execution_count": 6,
   "id": "37bdbf27-4b8d-48c0-9a36-f71ccf29b5a4",
   "metadata": {},
   "outputs": [
    {
     "data": {
      "application/vnd.jupyter.widget-view+json": {
       "model_id": "9c3ab34f28934912a7bb9469d71d8821",
       "version_major": 2,
       "version_minor": 0
      },
      "text/plain": [
       "FloatSlider(value=0.5, max=1.0)"
      ]
     },
     "execution_count": 6,
     "metadata": {},
     "output_type": "execute_result"
    }
   ],
   "source": [
    "alpha_slider = FloatSlider(min=0, max=1, value=0.5)\n",
    "jslink((cesium, \"globe_opacity\"), (alpha_slider, \"value\"))\n",
    "alpha_slider"
   ]
  },
  {
   "cell_type": "code",
   "execution_count": 7,
   "id": "16435e93-7dc5-4a68-9db9-505f9f096112",
   "metadata": {},
   "outputs": [
    {
     "data": {
      "application/vnd.jupyter.widget-view+json": {
       "model_id": "a30fe7a39a764ff78e010baa0aad362d",
       "version_major": 2,
       "version_minor": 0
      },
      "text/plain": [
       "IntSlider(value=0, max=1)"
      ]
     },
     "execution_count": 7,
     "metadata": {},
     "output_type": "execute_result"
    }
   ],
   "source": [
    "gjSlider = IntSlider(min=0, max=1)\n",
    "jslink((cesium, \"selection\"), (gjSlider, \"value\"))\n",
    "gjSlider"
   ]
  },
  {
   "cell_type": "code",
   "execution_count": 8,
   "id": "c78cf4df-1e1e-448e-ae93-82eda50f22e3",
   "metadata": {},
   "outputs": [
    {
     "data": {
      "application/vnd.jupyter.widget-view+json": {
       "model_id": "a82f3200e47843018da78d41bb6ad5ec",
       "version_major": 2,
       "version_minor": 1
      },
      "text/plain": [
       "SliderWidget(max=1)"
      ]
     },
     "execution_count": 8,
     "metadata": {},
     "output_type": "execute_result"
    }
   ],
   "source": [
    "selection_slider(cesium)"
   ]
  },
  {
   "cell_type": "code",
   "execution_count": 9,
   "id": "91d99ed5-fdea-47cd-ba2a-d8f4726e7bd7",
   "metadata": {},
   "outputs": [
    {
     "data": {
      "application/vnd.jupyter.widget-view+json": {
       "model_id": "53266ae19bc546e6ba3eb150916c6fa2",
       "version_major": 2,
       "version_minor": 0
      },
      "text/plain": [
       "HTML(value='<b>Section Detail</b><br/><p>hover over fault sections for more details.</p>', style=HTMLStyle(bac…"
      ]
     },
     "execution_count": 9,
     "metadata": {},
     "output_type": "execute_result"
    }
   ],
   "source": [
    "html"
   ]
  },
  {
   "cell_type": "code",
   "execution_count": null,
   "id": "975d6da1-22fa-4d6d-9fc5-37e7461f72a9",
   "metadata": {},
   "outputs": [],
   "source": []
  }
 ],
 "metadata": {
  "kernelspec": {
   "display_name": "Python 3 (ipykernel)",
   "language": "python",
   "name": "python3"
  },
  "language_info": {
   "codemirror_mode": {
    "name": "ipython",
    "version": 3
   },
   "file_extension": ".py",
   "mimetype": "text/x-python",
   "name": "python",
   "nbconvert_exporter": "python",
   "pygments_lexer": "ipython3",
   "version": "3.11.9"
  }
 },
 "nbformat": 4,
 "nbformat_minor": 5
}
