{
 "cells": [
  {
   "cell_type": "markdown",
   "id": "30de4760-31e4-433f-9870-1a83bb74da8f",
   "metadata": {},
   "source": [
    "## Development Notebook\n",
    "\n",
    "Used for trying out widget code changes"
   ]
  },
  {
   "cell_type": "code",
   "execution_count": 1,
   "id": "c291503e-1dd8-4cba-a0a0-e86b5eb7174b",
   "metadata": {},
   "outputs": [
    {
     "name": "stdout",
     "output_type": "stream",
     "text": [
      "env: ANYWIDGET_HMR=1\n"
     ]
    }
   ],
   "source": [
    "# These settings automatically re-render the widget when the JavaScipt file has changed\n",
    "\n",
    "%load_ext autoreload\n",
    "%autoreload 2\n",
    "%env ANYWIDGET_HMR=1"
   ]
  },
  {
   "cell_type": "code",
   "execution_count": 2,
   "id": "3d0b7204-6f12-4e24-bf63-9cd6765ada9f",
   "metadata": {},
   "outputs": [],
   "source": [
    "from ipywidgets import Button, GridBox, Layout, ButtonStyle, IntSlider, FloatSlider, Box, jslink, HTML, DOMWidget"
   ]
  },
  {
   "cell_type": "code",
   "execution_count": 3,
   "id": "dea41b42-536f-4ae2-9877-6303fe82882d",
   "metadata": {},
   "outputs": [],
   "source": [
    "import json\n",
    "\n",
    "with open('small_styled_crustal.geojson') as json_file:\n",
    "    styled_crustal = json.load(json_file)\n",
    "    json_file.close()\n",
    "\n",
    "polygon = {\"type\":\"FeatureCollection\",\"features\": [{\n",
    "    \"type\": \"Feature\",\n",
    "    \"properties\": {},\n",
    "    \"geometry\": {\n",
    "        \"coordinates\": [[\n",
    "            [174.934,-41.188],\n",
    "            [174.925,-41.188],\n",
    "            [174.925,-41.197],\n",
    "            [174.934,-41.197],\n",
    "            [174.934,-41.188]\n",
    "            ]],\n",
    "        \"type\": \"Polygon\"\n",
    "    }\n",
    "}]}\n",
    "\n",
    "color_map = {0.001: '#fcffa4',\n",
    " 0.0005: '#fbbe23',\n",
    " 0.0002: '#ea632a',\n",
    " 0.0001: '#bc3754',\n",
    " 5e-05: '#7f1e6c',\n",
    " 2e-05: '#2b0b57',\n",
    " 1e-05: '#000004'}"
   ]
  },
  {
   "cell_type": "code",
   "execution_count": 4,
   "id": "be2d1c1b-cbe2-4e30-98b1-88a79a7f9d92",
   "metadata": {},
   "outputs": [],
   "source": [
    "from nzshm_rupture_widget import CesiumWidget, SliderWidget, FullScreenWidget, HomeWidget, legend, selection_slider, MapLayoutBuilder, transparency_button, ValueButtonWidget, geojson_3d_map, decorate"
   ]
  },
  {
   "cell_type": "code",
   "execution_count": 5,
   "id": "603bfdb3-cd55-4e38-847e-6322ebfb88a9",
   "metadata": {},
   "outputs": [
    {
     "data": {
      "application/vnd.jupyter.widget-view+json": {
       "model_id": "ad0241afa6d5480cac70f6d955686a0e",
       "version_major": 2,
       "version_minor": 0
      },
      "text/plain": [
       "GridBox(children=(CesiumWidget(data=[{'type': 'FeatureCollection', 'features': [{'id': '216', 'type': 'Feature…"
      ]
     },
     "execution_count": 5,
     "metadata": {},
     "output_type": "execute_result"
    }
   ],
   "source": [
    "cesium = CesiumWidget(data = [styled_crustal, polygon])\n",
    "\n",
    "html = HTML(\"<b>Section Detail</b><br/><p>hover over fault sections for more details.</p>\", style={\"background\":\"white\", \"border-radius\":\"5px\"})\n",
    "html.add_class(\"mapHtmlWidget\")\n",
    "def on_hover(msg):\n",
    "    properties = msg[\"properties\"]\n",
    "    value = f\"<b>{properties['FaultName']}</b>\"\n",
    "    value += \"<br />\"\n",
    "    value += f\"Dip: {properties['DipDeg']}</br>\"\n",
    "    value += f\"Rake: {properties['Rake']}</br>\"\n",
    "    value += f\"Lower depth: {round(properties['LowDepth'],3)}</br>\"    \n",
    "    value += f\"Participation rate: {properties['annual_rate']:.2E}</br>\" \n",
    "    html.value = value\n",
    "\n",
    "cesium.on_hover(on_hover)\n",
    "cesium.hover_style = {\"fillColor\":\"red\", \"fillOpacity\":\"0.6\", \"color\":\"green\"}\n",
    "cesium.no_info = True\n",
    "cesium.globe_opacity = 1\n",
    "\n",
    "alpha_slider = FloatSlider(min=0, max=1, value=0.5)\n",
    "jslink((cesium, \"globe_opacity\"), (alpha_slider, \"value\"))\n",
    "\n",
    "MapLayoutBuilder(cesium)\\\n",
    "    .bottom_right(\n",
    "        html, \n",
    "        selection_slider(cesium))\\\n",
    "    .top_left(\n",
    "        HomeWidget(cesium),\n",
    "        transparency_button(cesium, [1, 0.5, 0.2, 0]),\n",
    "        FullScreenWidget(),\n",
    "        legend(\"Rupture Rate/yr\", color_map))\\\n",
    "    .top_right(\n",
    "        alpha_slider)\\\n",
    "    .build()"
   ]
  },
  {
   "cell_type": "code",
   "execution_count": null,
   "id": "0bb98bca-1f5a-4069-b3fe-9900c0775367",
   "metadata": {},
   "outputs": [],
   "source": []
  }
 ],
 "metadata": {
  "kernelspec": {
   "display_name": "Python 3 (ipykernel)",
   "language": "python",
   "name": "python3"
  },
  "language_info": {
   "codemirror_mode": {
    "name": "ipython",
    "version": 3
   },
   "file_extension": ".py",
   "mimetype": "text/x-python",
   "name": "python",
   "nbconvert_exporter": "python",
   "pygments_lexer": "ipython3",
   "version": "3.11.10"
  }
 },
 "nbformat": 4,
 "nbformat_minor": 5
}
